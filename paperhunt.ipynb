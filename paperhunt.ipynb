{
  "nbformat": 4,
  "nbformat_minor": 0,
  "metadata": {
    "colab": {
      "name": "paperhunt.ipynb",
      "provenance": [],
      "collapsed_sections": [],
      "authorship_tag": "ABX9TyMn0MZQY9INONJALJ53fWZO",
      "include_colab_link": true
    },
    "kernelspec": {
      "name": "python3",
      "display_name": "Python 3",
      "language": "python"
    }
  },
  "cells": [
    {
      "cell_type": "markdown",
      "metadata": {
        "id": "view-in-github",
        "colab_type": "text"
      },
      "source": [
        "<a href=\"https://colab.research.google.com/github/VasudevGupta7/paperhunt/blob/dev/paperhunt.ipynb\" target=\"_parent\"><img src=\"https://colab.research.google.com/assets/colab-badge.svg\" alt=\"Open In Colab\"/></a>"
      ]
    },
    {
      "cell_type": "code",
      "metadata": {
        "id": "pS0WF7Z4CGcY",
        "outputId": "7606e69c-70cd-4f72-ce1f-2ee773c4e824",
        "colab": {
          "base_uri": "https://localhost:8080/",
          "height": 1000
        }
      },
      "source": [
        "!pip install git+https://github.com/vasudevgupta7/paperhunt.git@master"
      ],
      "execution_count": 5,
      "outputs": [
        {
          "output_type": "stream",
          "name": "stdout",
          "text": [
            "You have uninstalled pretty_errors but it is still present in your python startup.  Please remove its section from file:\n",
            " /Users/vasudevgupta/.local/lib/python3.8/site-packages/usercustomize.py\n",
            "\n",
            "Collecting git+https://github.com/vasudevgupta7/paperhunt.git@master\n",
            "  Cloning https://github.com/vasudevgupta7/paperhunt.git (to revision master) to /private/var/folders/fy/2rpq0wy51879dr_d7pt64p980000gn/T/pip-req-build-5k4dqvbv\n",
            "  Running command git clone -q https://github.com/vasudevgupta7/paperhunt.git /private/var/folders/fy/2rpq0wy51879dr_d7pt64p980000gn/T/pip-req-build-5k4dqvbv\n",
            "Collecting requests==2.22.0\n",
            "  Downloading requests-2.22.0-py2.py3-none-any.whl (57 kB)\n",
            "\u001b[K     |████████████████████████████████| 57 kB 922 kB/s \n",
            "\u001b[?25hCollecting beautifulsoup4==4.9.3\n",
            "  Using cached beautifulsoup4-4.9.3-py3-none-any.whl (115 kB)\n",
            "Collecting spacy==2.3.2\n",
            "  Downloading spacy-2.3.2-cp38-cp38-macosx_10_9_x86_64.whl (10.1 MB)\n",
            "\u001b[K     |████████████████████████████████| 10.1 MB 167 kB/s \n",
            "\u001b[?25hCollecting pandas==1.1.4\n",
            "  Downloading pandas-1.1.4-cp38-cp38-macosx_10_9_x86_64.whl (10.1 MB)\n",
            "\u001b[K     |████████████████████████████████| 10.1 MB 152 kB/s \n",
            "\u001b[?25hCollecting tqdm==4.49.0\n",
            "  Using cached tqdm-4.49.0-py2.py3-none-any.whl (69 kB)\n",
            "Collecting idna<2.9,>=2.5\n",
            "  Downloading idna-2.8-py2.py3-none-any.whl (58 kB)\n",
            "\u001b[K     |████████████████████████████████| 58 kB 221 kB/s \n",
            "\u001b[?25hRequirement already satisfied: chardet<3.1.0,>=3.0.2 in /Users/vasudevgupta/miniconda3/lib/python3.8/site-packages (from requests==2.22.0->paperhunt==0.1) (3.0.4)\n",
            "Requirement already satisfied: certifi>=2017.4.17 in /Users/vasudevgupta/miniconda3/lib/python3.8/site-packages (from requests==2.22.0->paperhunt==0.1) (2020.4.5.1)\n",
            "Requirement already satisfied: urllib3!=1.25.0,!=1.25.1,<1.26,>=1.21.1 in /Users/vasudevgupta/miniconda3/lib/python3.8/site-packages (from requests==2.22.0->paperhunt==0.1) (1.25.8)\n",
            "Collecting soupsieve>1.2; python_version >= \"3.0\"\n",
            "  Downloading soupsieve-2.1-py3-none-any.whl (32 kB)\n",
            "Collecting catalogue<1.1.0,>=0.0.7\n",
            "  Downloading catalogue-1.0.0-py2.py3-none-any.whl (7.7 kB)\n",
            "Collecting preshed<3.1.0,>=3.0.2\n",
            "  Downloading preshed-3.0.5-cp38-cp38-macosx_10_9_x86_64.whl (105 kB)\n",
            "\u001b[K     |████████████████████████████████| 105 kB 202 kB/s \n",
            "\u001b[?25hCollecting srsly<1.1.0,>=1.0.2\n",
            "  Downloading srsly-1.0.5-cp38-cp38-macosx_10_9_x86_64.whl (177 kB)\n",
            "\u001b[K     |████████████████████████████████| 177 kB 184 kB/s \n",
            "\u001b[?25hCollecting blis<0.5.0,>=0.4.0\n",
            "  Downloading blis-0.4.1-cp38-cp38-macosx_10_9_x86_64.whl (3.7 MB)\n",
            "\u001b[K     |████████████████████████████████| 3.7 MB 215 kB/s \n",
            "\u001b[?25hCollecting cymem<2.1.0,>=2.0.2\n",
            "  Downloading cymem-2.0.5-cp38-cp38-macosx_10_9_x86_64.whl (31 kB)\n",
            "Requirement already satisfied: setuptools in /Users/vasudevgupta/miniconda3/lib/python3.8/site-packages (from spacy==2.3.2->paperhunt==0.1) (46.4.0.post20200518)\n",
            "Collecting numpy>=1.15.0\n",
            "  Using cached numpy-1.19.4-cp38-cp38-macosx_10_9_x86_64.whl (15.3 MB)\n",
            "Collecting plac<1.2.0,>=0.9.6\n",
            "  Downloading plac-1.1.3-py2.py3-none-any.whl (20 kB)\n",
            "Collecting thinc==7.4.1\n",
            "  Downloading thinc-7.4.1-cp38-cp38-macosx_10_9_x86_64.whl (2.1 MB)\n",
            "\u001b[K     |████████████████████████████████| 2.1 MB 119 kB/s \n",
            "\u001b[?25hCollecting wasabi<1.1.0,>=0.4.0\n",
            "  Downloading wasabi-0.8.0-py3-none-any.whl (23 kB)\n",
            "Collecting murmurhash<1.1.0,>=0.28.0\n",
            "  Downloading murmurhash-1.0.5-cp38-cp38-macosx_10_9_x86_64.whl (18 kB)\n",
            "Collecting python-dateutil>=2.7.3\n",
            "  Using cached python_dateutil-2.8.1-py2.py3-none-any.whl (227 kB)\n",
            "Collecting pytz>=2017.2\n",
            "  Using cached pytz-2020.4-py2.py3-none-any.whl (509 kB)\n",
            "Requirement already satisfied: six>=1.5 in /Users/vasudevgupta/miniconda3/lib/python3.8/site-packages (from python-dateutil>=2.7.3->pandas==1.1.4->paperhunt==0.1) (1.14.0)\n",
            "Building wheels for collected packages: paperhunt\n",
            "  Building wheel for paperhunt (setup.py) ... \u001b[?25ldone\n",
            "\u001b[?25h  Created wheel for paperhunt: filename=paperhunt-0.1-py3-none-any.whl size=8260 sha256=984cf56723e8823dc148dd264352405d93467262e8900dca410bb301587e4b15\n",
            "  Stored in directory: /private/var/folders/fy/2rpq0wy51879dr_d7pt64p980000gn/T/pip-ephem-wheel-cache-wv849fwf/wheels/07/2d/ee/9a91e8ee695dfc4f1eae0ad7ae4365c8568b623f6b77954487\n",
            "Successfully built paperhunt\n",
            "Installing collected packages: idna, requests, soupsieve, beautifulsoup4, catalogue, tqdm, cymem, murmurhash, preshed, srsly, numpy, blis, plac, wasabi, thinc, spacy, python-dateutil, pytz, pandas, paperhunt\n",
            "  Attempting uninstall: idna\n",
            "    Found existing installation: idna 2.9\n",
            "    Uninstalling idna-2.9:\n",
            "      Successfully uninstalled idna-2.9\n",
            "  Attempting uninstall: requests\n",
            "    Found existing installation: requests 2.23.0\n",
            "    Uninstalling requests-2.23.0:\n",
            "      Successfully uninstalled requests-2.23.0\n",
            "  Attempting uninstall: tqdm\n",
            "    Found existing installation: tqdm 4.46.0\n",
            "    Uninstalling tqdm-4.46.0:\n",
            "      Successfully uninstalled tqdm-4.46.0\n",
            "Successfully installed beautifulsoup4-4.9.3 blis-0.4.1 catalogue-1.0.0 cymem-2.0.5 idna-2.8 murmurhash-1.0.5 numpy-1.19.4 pandas-1.1.4 paperhunt-0.1 plac-1.1.3 preshed-3.0.5 python-dateutil-2.8.1 pytz-2020.4 requests-2.22.0 soupsieve-2.1 spacy-2.3.2 srsly-1.0.5 thinc-7.4.1 tqdm-4.49.0 wasabi-0.8.0\n"
          ]
        }
      ]
    },
    {
      "cell_type": "code",
      "metadata": {
        "id": "pXL0fYFVCXNl",
        "outputId": "887b556f-e6b0-4f71-df0f-2f6095217f4c",
        "colab": {
          "base_uri": "https://localhost:8080/"
        }
      },
      "source": [
        "!hunt -h"
      ],
      "execution_count": 9,
      "outputs": [
        {
          "output_type": "stream",
          "name": "stdout",
          "text": [
            "zsh:1: command not found: hunt\n"
          ]
        }
      ]
    },
    {
      "cell_type": "code",
      "metadata": {
        "id": "N7EkZV59wfvH",
        "outputId": "6cb914cd-8cbc-4fae-eeeb-d9c172ee9842",
        "colab": {
          "base_uri": "https://localhost:8080/"
        }
      },
      "source": [
        "!hunt -f --category \"emnlp2020\" -q \"adapters\""
      ],
      "execution_count": 8,
      "outputs": [
        {
          "output_type": "stream",
          "name": "stdout",
          "text": [
            "zsh:1: command not found: hunt\n"
          ]
        }
      ]
    },
    {
      "cell_type": "code",
      "metadata": {
        "id": "-moH6DD_xKzB"
      },
      "source": [],
      "execution_count": 3,
      "outputs": []
    }
  ]
}